{
  "nbformat": 4,
  "nbformat_minor": 0,
  "metadata": {
    "colab": {
      "name": "ML-colab-2",
      "version": "0.3.2",
      "provenance": [],
      "collapsed_sections": [],
      "include_colab_link": true
    },
    "kernelspec": {
      "name": "python3",
      "display_name": "Python 3"
    }
  },
  "cells": [
    {
      "cell_type": "markdown",
      "metadata": {
        "id": "view-in-github",
        "colab_type": "text"
      },
      "source": [
        "<a href=\"https://colab.research.google.com/github/Cogdof/ML/blob/master/ML_colab_2.ipynb\" target=\"_parent\"><img src=\"https://colab.research.google.com/assets/colab-badge.svg\" alt=\"Open In Colab\"/></a>"
      ]
    },
    {
      "metadata": {
        "id": "48k4zKixH0wZ",
        "colab_type": "text"
      },
      "cell_type": "markdown",
      "source": [
        "## ML\n",
        "\n",
        "colab-1\n"
      ]
    },
    {
      "metadata": {
        "id": "tNpe5JcZIAVN",
        "colab_type": "code",
        "colab": {}
      },
      "cell_type": "code",
      "source": [
        "Reading package lists... Done\n",
        "Building dependency tree       \n",
        "Reading state information... Done\n",
        "Note, selecting 'fonts-nanum-eco' for glob 'fonts-nanum*'\n",
        "Note, selecting 'fonts-nanum' for glob 'fonts-nanum*'\n",
        "Note, selecting 'fonts-nanum-gothic-light' for glob 'fonts-nanum*'\n",
        "Note, selecting 'fonts-nanum-coding' for glob 'fonts-nanum*'\n",
        "Note, selecting 'fonts-nanum-extra' for glob 'fonts-nanum*'\n",
        "The following NEW packages will be installed:\n",
        "  fonts-nanum fonts-nanum-coding fonts-nanum-eco fonts-nanum-extra\n",
        "0 upgraded, 4 newly installed, 0 to remove and 5 not upgraded.\n",
        "Need to get 37.0 MB of archives.\n",
        "After this operation, 145 MB of additional disk space will be used.\n",
        "Get:1 http://archive.ubuntu.com/ubuntu bionic/universe amd64 fonts-nanum all 20170925-1 [9,604 kB]\n",
        "Get:2 http://archive.ubuntu.com/ubuntu bionic/universe amd64 fonts-nanum-eco all 1.000-6 [14.0 MB]\n",
        "Get:3 http://archive.ubuntu.com/ubuntu bionic/universe amd64 fonts-nanum-extra all 20170925-1 [12.2 MB]\n",
        "Get:4 http://archive.ubuntu.com/ubuntu bionic/universe amd64 fonts-nanum-coding all 2.5-1 [1,083 kB]\n",
        "Fetched 37.0 MB in 3s (11.9 MB/s)\n",
        "Selecting previously unselected package fonts-nanum.\n",
        "(Reading database ... 22280 files and directories currently installed.)\n",
        "Preparing to unpack .../fonts-nanum_20170925-1_all.deb ...\n",
        "Unpacking fonts-nanum (20170925-1) ...\n",
        "Selecting previously unselected package fonts-nanum-eco.\n",
        "Preparing to unpack .../fonts-nanum-eco_1.000-6_all.deb ...\n",
        "Unpacking fonts-nanum-eco (1.000-6) ...\n",
        "Selecting previously unselected package fonts-nanum-extra.\n",
        "Preparing to unpack .../fonts-nanum-extra_20170925-1_all.deb ...\n",
        "Unpacking fonts-nanum-extra (20170925-1) ...\n",
        "Selecting previously unselected package fonts-nanum-coding.\n",
        "Preparing to unpack .../fonts-nanum-coding_2.5-1_all.deb ...\n",
        "Unpacking fonts-nanum-coding (2.5-1) ...\n",
        "Setting up fonts-nanum-extra (20170925-1) ...\n",
        "Setting up fonts-nanum (20170925-1) ...\n",
        "Setting up fonts-nanum-coding (2.5-1) ...\n",
        "Setting up fonts-nanum-eco (1.000-6) ...\n",
        "Reading package lists... Done\n",
        "Building dependency tree       \n",
        "Reading state information... Done\n",
        "The following NEW packages will be installed:\n",
        "  fontconfig\n",
        "0 upgraded, 1 newly installed, 0 to remove and 5 not upgraded.\n",
        "Need to get 169 kB of archives.\n",
        "After this operation, 577 kB of additional disk space will be used.\n",
        "Get:1 http://archive.ubuntu.com/ubuntu bionic/main amd64 fontconfig amd64 2.12.6-0ubuntu2 [169 kB]\n",
        "Fetched 169 kB in 1s (207 kB/s)\n",
        "Selecting previously unselected package fontconfig.\n",
        "(Reading database ... 22334 files and directories currently installed.)\n",
        "Preparing to unpack .../fontconfig_2.12.6-0ubuntu2_amd64.deb ...\n",
        "Unpacking fontconfig (2.12.6-0ubuntu2) ...\n",
        "Setting up fontconfig (2.12.6-0ubuntu2) ...\n",
        "Regenerating fonts cache... done.\n",
        "/usr/share/fonts: caching, new cache contents: 0 fonts, 1 dirs\n",
        "/usr/share/fonts/truetype: caching, new cache contents: 0 fonts, 2 dirs\n",
        "/usr/share/fonts/truetype/liberation: caching, new cache contents: 16 fonts, 0 dirs\n",
        "/usr/share/fonts/truetype/nanum: caching, new cache contents: 31 fonts, 0 dirs\n",
        "/usr/local/share/fonts: caching, new cache contents: 0 fonts, 0 dirs\n",
        "/root/.local/share/fonts: skipping, no such directory\n",
        "/root/.fonts: skipping, no such directory\n",
        "/var/cache/fontconfig: cleaning cache directory\n",
        "/root/.cache/fontconfig: not cleaning non-existent cache directory\n",
        "/root/.fontconfig: not cleaning non-existent cache directory\n",
        "fc-cache: succeeded"
      ],
      "execution_count": 0,
      "outputs": []
    },
    {
      "metadata": {
        "id": "nxb0xno4H0Rf",
        "colab_type": "code",
        "colab": {}
      },
      "cell_type": "code",
      "source": [
        ""
      ],
      "execution_count": 0,
      "outputs": []
    },
    {
      "metadata": {
        "id": "CMuOHRU0Huxf",
        "colab_type": "code",
        "colab": {}
      },
      "cell_type": "code",
      "source": [
        ""
      ],
      "execution_count": 0,
      "outputs": []
    },
    {
      "metadata": {
        "id": "NfX81wHQHyYU",
        "colab_type": "text"
      },
      "cell_type": "markdown",
      "source": [
        ""
      ]
    }
  ]
}