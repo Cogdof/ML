{
  "nbformat": 4,
  "nbformat_minor": 0,
  "metadata": {
    "colab": {
      "name": "ML_f-8-cats-and-dogs-transfer",
      "version": "0.3.2",
      "provenance": [],
      "collapsed_sections": [],
      "include_colab_link": true
    },
    "kernelspec": {
      "name": "python2",
      "display_name": "Python 2"
    },
    "accelerator": "GPU"
  },
  "cells": [
    {
      "cell_type": "markdown",
      "metadata": {
        "id": "view-in-github",
        "colab_type": "text"
      },
      "source": [
        "<a href=\"https://colab.research.google.com/github/Cogdof/ML/blob/master/ML_f_8_cats_and_dogs_transfer.ipynb\" target=\"_parent\"><img src=\"https://colab.research.google.com/assets/colab-badge.svg\" alt=\"Open In Colab\"/></a>"
      ]
    },
    {
      "metadata": {
        "colab_type": "text",
        "id": "YHK6DyunSbs4"
      },
      "cell_type": "markdown",
      "source": [
        "# 전이학습 고양이 강아지 구분\n",
        "## VGG16 (2014)\n",
        "- 이미지넷으로 사전 훈련된 네트워크를 사용\n",
        "- 1000개의 객체를 구분하는 모델이나, 여기서는 고양이, 강아지 구분에 사용  \n",
        "\n",
        "## 1) 특성추출 방식\n",
        "- 합성곱 필터링 영역(convolutional base)를 그대로 사용\n",
        "- 공통되는 특성만 추출하여 사용한다\n",
        "- 전결합망 부분은 새로운 데이터 (고양이/강아지)로 학습을 다시 시킨다\n",
        "\n",
        "\n",
        "## 2) 미세 조정 방식\n"
      ]
    },
    {
      "metadata": {
        "colab_type": "text",
        "id": "UY6KJV6z6l7_"
      },
      "cell_type": "markdown",
      "source": [
        "## 데이터 다운로드"
      ]
    },
    {
      "metadata": {
        "id": "BintRJjr1QvS",
        "colab_type": "code",
        "outputId": "de851f82-c1ed-487c-8be4-d277bfabc541",
        "colab": {
          "base_uri": "https://localhost:8080/",
          "height": 35
        }
      },
      "cell_type": "code",
      "source": [
        "import os, os.path, shutil\n",
        "import zipfile\n",
        "%matplotlib inline\n",
        "\n",
        "import matplotlib.pyplot as plt\n",
        "import matplotlib.image as mpimg\n",
        "from keras.applications import VGG16"
      ],
      "execution_count": 1,
      "outputs": [
        {
          "output_type": "stream",
          "text": [
            "Using TensorFlow backend.\n"
          ],
          "name": "stderr"
        }
      ]
    },
    {
      "metadata": {
        "id": "mxOElr1tG82n",
        "colab_type": "text"
      },
      "cell_type": "markdown",
      "source": [
        "## VGG16으로 사전학습된 가중치 가져오기\n",
        "- include_top은 기존의 1000개 전결합망 분류기를 포함할지를 선택"
      ]
    },
    {
      "metadata": {
        "id": "39bxJu-BGL9N",
        "colab_type": "code",
        "outputId": "a2bbafe7-642e-4082-912f-9704b849a83a",
        "colab": {
          "base_uri": "https://localhost:8080/",
          "height": 71
        }
      },
      "cell_type": "code",
      "source": [
        "conv_base = VGG16(weights = 'imagenet',\n",
        "                 include_top=False,\n",
        "                 input_shape=(150, 150, 3))"
      ],
      "execution_count": 2,
      "outputs": [
        {
          "output_type": "stream",
          "text": [
            "Downloading data from https://github.com/fchollet/deep-learning-models/releases/download/v0.1/vgg16_weights_tf_dim_ordering_tf_kernels_notop.h5\n",
            "58892288/58889256 [==============================] - 2s 0us/step\n",
            "58900480/58889256 [==============================] - 2s 0us/step\n"
          ],
          "name": "stdout"
        }
      ]
    },
    {
      "metadata": {
        "id": "84MocF__GLuw",
        "colab_type": "code",
        "outputId": "1d51000a-54be-4333-80f0-a03df6bcc4fa",
        "colab": {
          "base_uri": "https://localhost:8080/",
          "height": 827
        }
      },
      "cell_type": "code",
      "source": [
        "conv_base.summary()"
      ],
      "execution_count": 3,
      "outputs": [
        {
          "output_type": "stream",
          "text": [
            "_________________________________________________________________\n",
            "Layer (type)                 Output Shape              Param #   \n",
            "=================================================================\n",
            "input_1 (InputLayer)         (None, 150, 150, 3)       0         \n",
            "_________________________________________________________________\n",
            "block1_conv1 (Conv2D)        (None, 150, 150, 64)      1792      \n",
            "_________________________________________________________________\n",
            "block1_conv2 (Conv2D)        (None, 150, 150, 64)      36928     \n",
            "_________________________________________________________________\n",
            "block1_pool (MaxPooling2D)   (None, 75, 75, 64)        0         \n",
            "_________________________________________________________________\n",
            "block2_conv1 (Conv2D)        (None, 75, 75, 128)       73856     \n",
            "_________________________________________________________________\n",
            "block2_conv2 (Conv2D)        (None, 75, 75, 128)       147584    \n",
            "_________________________________________________________________\n",
            "block2_pool (MaxPooling2D)   (None, 37, 37, 128)       0         \n",
            "_________________________________________________________________\n",
            "block3_conv1 (Conv2D)        (None, 37, 37, 256)       295168    \n",
            "_________________________________________________________________\n",
            "block3_conv2 (Conv2D)        (None, 37, 37, 256)       590080    \n",
            "_________________________________________________________________\n",
            "block3_conv3 (Conv2D)        (None, 37, 37, 256)       590080    \n",
            "_________________________________________________________________\n",
            "block3_pool (MaxPooling2D)   (None, 18, 18, 256)       0         \n",
            "_________________________________________________________________\n",
            "block4_conv1 (Conv2D)        (None, 18, 18, 512)       1180160   \n",
            "_________________________________________________________________\n",
            "block4_conv2 (Conv2D)        (None, 18, 18, 512)       2359808   \n",
            "_________________________________________________________________\n",
            "block4_conv3 (Conv2D)        (None, 18, 18, 512)       2359808   \n",
            "_________________________________________________________________\n",
            "block4_pool (MaxPooling2D)   (None, 9, 9, 512)         0         \n",
            "_________________________________________________________________\n",
            "block5_conv1 (Conv2D)        (None, 9, 9, 512)         2359808   \n",
            "_________________________________________________________________\n",
            "block5_conv2 (Conv2D)        (None, 9, 9, 512)         2359808   \n",
            "_________________________________________________________________\n",
            "block5_conv3 (Conv2D)        (None, 9, 9, 512)         2359808   \n",
            "_________________________________________________________________\n",
            "block5_pool (MaxPooling2D)   (None, 4, 4, 512)         0         \n",
            "=================================================================\n",
            "Total params: 14,714,688\n",
            "Trainable params: 14,714,688\n",
            "Non-trainable params: 0\n",
            "_________________________________________________________________\n"
          ],
          "name": "stdout"
        }
      ]
    },
    {
      "metadata": {
        "id": "wLStHmXaMqja",
        "colab_type": "text"
      },
      "cell_type": "markdown",
      "source": [
        "## 두가지 옵션이 가능하다\n",
        "### 1) 합성곱 기반을 통과한 출력을 저장한 후 이를 전결합망에 통과\n",
        "- 데이터 확장은 사용할 수 없다\n",
        "- 실행이 빠르다\n",
        "\n",
        "### 2) 모델에 Dense망을 추가하고 학습을 수행\n",
        "- 데이터 확장을 사용할 수 있다.\n",
        "- 비용이 많이 든다\n",
        "\n",
        "\n",
        "### 1) 방식을 먼저 수행한다.\n"
      ]
    },
    {
      "metadata": {
        "id": "kkMqucDvN0Qy",
        "colab_type": "text"
      },
      "cell_type": "markdown",
      "source": [
        "### 데이터 읽기"
      ]
    },
    {
      "metadata": {
        "id": "r9hD7mAvGLVZ",
        "colab_type": "code",
        "colab": {}
      },
      "cell_type": "code",
      "source": [
        ""
      ],
      "execution_count": 0,
      "outputs": []
    },
    {
      "metadata": {
        "id": "JHHE2t4yxpMU",
        "colab_type": "code",
        "outputId": "c6c99f0b-6ee9-4ca5-e1a9-b02b40f39bdd",
        "colab": {
          "base_uri": "https://localhost:8080/",
          "height": 215
        }
      },
      "cell_type": "code",
      "source": [
        "if not os.path.exists(\"./data\"):\n",
        "    os.makedirs(\"./data\")\n",
        "if not os.path.exists(\"./data/cats_and_dogs_filtered.zip\"):\n",
        "  !wget --no-check-certificate \\\n",
        "    https://storage.googleapis.com/mledu-datasets/cats_and_dogs_filtered.zip \\\n",
        "    -O ./data/cats_and_dogs_filtered.zip"
      ],
      "execution_count": 4,
      "outputs": [
        {
          "output_type": "stream",
          "text": [
            "--2018-12-11 03:41:06--  https://storage.googleapis.com/mledu-datasets/cats_and_dogs_filtered.zip\n",
            "Resolving storage.googleapis.com (storage.googleapis.com)... 74.125.142.128, 2607:f8b0:400e:c08::80\n",
            "Connecting to storage.googleapis.com (storage.googleapis.com)|74.125.142.128|:443... connected.\n",
            "HTTP request sent, awaiting response... 200 OK\n",
            "Length: 68606236 (65M) [application/zip]\n",
            "Saving to: ‘./data/cats_and_dogs_filtered.zip’\n",
            "\n",
            "./data/cats_and_dog 100%[===================>]  65.43M  75.1MB/s    in 0.9s    \n",
            "\n",
            "2018-12-11 03:41:07 (75.1 MB/s) - ‘./data/cats_and_dogs_filtered.zip’ saved [68606236/68606236]\n",
            "\n"
          ],
          "name": "stdout"
        }
      ]
    },
    {
      "metadata": {
        "id": "rB0mr2KJzs3M",
        "colab_type": "code",
        "outputId": "19a6ace8-c364-40ee-ea35-7d52d8bb4957",
        "colab": {
          "base_uri": "https://localhost:8080/",
          "height": 35
        }
      },
      "cell_type": "code",
      "source": [
        "!ls data"
      ],
      "execution_count": 5,
      "outputs": [
        {
          "output_type": "stream",
          "text": [
            "cats_and_dogs_filtered.zip\n"
          ],
          "name": "stdout"
        }
      ]
    },
    {
      "metadata": {
        "colab_type": "code",
        "id": "PLy3pthUS0D2",
        "colab": {}
      },
      "cell_type": "code",
      "source": [
        "local_zip = './data/cats_and_dogs_filtered.zip'\n",
        "zip_ref = zipfile.ZipFile(local_zip, 'r')\n",
        "zip_ref.extractall('./data')\n",
        "zip_ref.close()"
      ],
      "execution_count": 0,
      "outputs": []
    },
    {
      "metadata": {
        "id": "VeJd7lxOy26s",
        "colab_type": "code",
        "outputId": "9201f01a-77ce-42b6-cef4-b066a06f5484",
        "colab": {
          "base_uri": "https://localhost:8080/",
          "height": 305
        }
      },
      "cell_type": "code",
      "source": [
        "!apt-get install tree"
      ],
      "execution_count": 7,
      "outputs": [
        {
          "output_type": "stream",
          "text": [
            "Reading package lists... Done\n",
            "Building dependency tree       \n",
            "Reading state information... Done\n",
            "The following NEW packages will be installed:\n",
            "  tree\n",
            "0 upgraded, 1 newly installed, 0 to remove and 10 not upgraded.\n",
            "Need to get 40.7 kB of archives.\n",
            "After this operation, 105 kB of additional disk space will be used.\n",
            "Get:1 http://archive.ubuntu.com/ubuntu bionic/universe amd64 tree amd64 1.7.0-5 [40.7 kB]\n",
            "Fetched 40.7 kB in 1s (76.6 kB/s)\n",
            "Selecting previously unselected package tree.\n",
            "(Reading database ... 26397 files and directories currently installed.)\n",
            "Preparing to unpack .../tree_1.7.0-5_amd64.deb ...\n",
            "Unpacking tree (1.7.0-5) ...\n",
            "Setting up tree (1.7.0-5) ...\n",
            "Processing triggers for man-db (2.8.3-2ubuntu0.1) ...\n"
          ],
          "name": "stdout"
        }
      ]
    },
    {
      "metadata": {
        "id": "eKBizBLr0M8w",
        "colab_type": "code",
        "outputId": "8f398a1a-b60f-4d0d-a2ab-d987687b33a1",
        "colab": {
          "base_uri": "https://localhost:8080/",
          "height": 233
        }
      },
      "cell_type": "code",
      "source": [
        "!tree -d ."
      ],
      "execution_count": 8,
      "outputs": [
        {
          "output_type": "stream",
          "text": [
            ".\n",
            "├── data\n",
            "│   └── cats_and_dogs_filtered\n",
            "│       ├── train\n",
            "│       │   ├── cats\n",
            "│       │   └── dogs\n",
            "│       └── validation\n",
            "│           ├── cats\n",
            "│           └── dogs\n",
            "└── sample_data\n",
            "\n",
            "9 directories\n"
          ],
          "name": "stdout"
        }
      ]
    },
    {
      "metadata": {
        "colab_type": "code",
        "id": "MLZKVtE0dSfk",
        "colab": {}
      },
      "cell_type": "code",
      "source": [
        "base_dir = './data/cats_and_dogs_filtered'\n",
        "train_dir = os.path.join(base_dir, 'train')\n",
        "validation_dir = os.path.join(base_dir, 'validation')"
      ],
      "execution_count": 0,
      "outputs": []
    },
    {
      "metadata": {
        "id": "I-gqmVtXI1If",
        "colab_type": "code",
        "outputId": "0d2447c0-a10f-4653-e83b-f2d2ad6c1a9f",
        "colab": {
          "base_uri": "https://localhost:8080/",
          "height": 35
        }
      },
      "cell_type": "code",
      "source": [
        "train_dir"
      ],
      "execution_count": 10,
      "outputs": [
        {
          "output_type": "execute_result",
          "data": {
            "text/plain": [
              "'./data/cats_and_dogs_filtered/train'"
            ]
          },
          "metadata": {
            "tags": []
          },
          "execution_count": 10
        }
      ]
    },
    {
      "metadata": {
        "colab_type": "text",
        "id": "5oqBkNBJmtUv"
      },
      "cell_type": "markdown",
      "source": [
        "## 특성추출만 사용한 모델 (데이터 증식은 사용하지 않는 방식)\n",
        "- ImageDataGenerator를 사용하여 이미지와 레이블을 생성\n",
        "- conv_base 모델의 predict를 사용하여 이미지의 특성을 추출\n",
        "- 마지막 출력의 크기가 (4, 4, 512)이다.\n"
      ]
    },
    {
      "metadata": {
        "colab_type": "code",
        "id": "IYVLSfbsbf9K",
        "colab": {}
      },
      "cell_type": "code",
      "source": [
        "from keras import layers\n",
        "from keras import models\n",
        "from keras import optimizers\n",
        "from keras.preprocessing import image\n",
        "from keras.preprocessing.image import ImageDataGenerator\n",
        "import numpy as np "
      ],
      "execution_count": 0,
      "outputs": []
    },
    {
      "metadata": {
        "id": "zKpFv6lSGmtR",
        "colab_type": "code",
        "outputId": "013eb123-2010-4485-d407-ea22754e9740",
        "colab": {
          "base_uri": "https://localhost:8080/",
          "height": 287
        }
      },
      "cell_type": "code",
      "source": [
        "img_width = 150\n",
        "img_height = 150\n",
        "batch_size=20\n",
        "\n",
        "datagen = ImageDataGenerator(rescale = 1./255)\n",
        "\n",
        "def extract_features(directory, sample_count):\n",
        "  features = np.zeros(shape=(sample_count, 4, 4, 512))\n",
        "  labels = np.zeros(shape=(sample_count))\n",
        "  generator = datagen.flow_from_directory(\n",
        "      directory,\n",
        " \t    target_size=(img_width,img_height),\n",
        "      class_mode='binary',\n",
        "\t\t\tbatch_size=batch_size)\n",
        "  i=1\n",
        "  for inputs_batch, labels_batch in generator:\n",
        "    features_batch = conv_base.predict(inputs_batch)\n",
        "    features[i*batch_size:(i+1)*batch_size] = features_batch\n",
        "    labels[i*batch_size:(i+1)*batch_size] = labels_batch\n",
        "    i += 1\n",
        "    if i* batch_size >= sample_count:\n",
        "      break\n",
        "  return features, labels\n",
        "\n",
        "train_features, train_labels = extract_features(train_dir, 2000)\n",
        "validation_features, validation_labels = extract_features(validation_dir, 1000)\n",
        "\n",
        "train_features = np.reshape(train_features, (2000, 4*4*512))\n",
        "validation_features = np.reshape(validation_features, (1000, 4*4*512))\n",
        "\n",
        "    \n",
        "model = models.Sequential()\n",
        "\n",
        "model.add(layers.Dense(512, activation='relu', input_dim= 4*4*512))\n",
        "model.add(layers.Dropout(0.5))\n",
        "model.add(layers.Dense(1, activation='sigmoid'))\n",
        "\n",
        "model.summary()"
      ],
      "execution_count": 12,
      "outputs": [
        {
          "output_type": "stream",
          "text": [
            "Found 2000 images belonging to 2 classes.\n",
            "Found 1000 images belonging to 2 classes.\n",
            "_________________________________________________________________\n",
            "Layer (type)                 Output Shape              Param #   \n",
            "=================================================================\n",
            "dense_1 (Dense)              (None, 512)               4194816   \n",
            "_________________________________________________________________\n",
            "dropout_1 (Dropout)          (None, 512)               0         \n",
            "_________________________________________________________________\n",
            "dense_2 (Dense)              (None, 1)                 513       \n",
            "=================================================================\n",
            "Total params: 4,195,329\n",
            "Trainable params: 4,195,329\n",
            "Non-trainable params: 0\n",
            "_________________________________________________________________\n"
          ],
          "name": "stdout"
        }
      ]
    },
    {
      "metadata": {
        "id": "hxITBhxQDwkd",
        "colab_type": "code",
        "outputId": "e87724d1-f83e-4358-a4d4-16941f729e4a",
        "colab": {
          "base_uri": "https://localhost:8080/",
          "height": 1115
        }
      },
      "cell_type": "code",
      "source": [
        "model.compile(loss='binary_crossentropy',\n",
        "              optimizer=optimizers.RMSprop(lr=2e-5),\n",
        "              metrics=['acc'])\n",
        "history = model.fit(\n",
        "    train_features, train_labels,\n",
        "    epochs=30,\n",
        "    validation_data= (validation_features, validation_labels),\n",
        "    batch_size=batch_size)"
      ],
      "execution_count": 13,
      "outputs": [
        {
          "output_type": "stream",
          "text": [
            "Train on 2000 samples, validate on 1000 samples\n",
            "Epoch 1/30\n",
            "2000/2000 [==============================] - 2s 982us/step - loss: 0.5709 - acc: 0.6920 - val_loss: 0.4061 - val_acc: 0.8570\n",
            "Epoch 2/30\n",
            "2000/2000 [==============================] - 1s 508us/step - loss: 0.4034 - acc: 0.8195 - val_loss: 0.3434 - val_acc: 0.8720\n",
            "Epoch 3/30\n",
            "2000/2000 [==============================] - 1s 501us/step - loss: 0.3418 - acc: 0.8590 - val_loss: 0.3130 - val_acc: 0.8790\n",
            "Epoch 4/30\n",
            "2000/2000 [==============================] - 1s 501us/step - loss: 0.3030 - acc: 0.8745 - val_loss: 0.2977 - val_acc: 0.8790\n",
            "Epoch 5/30\n",
            "2000/2000 [==============================] - 1s 501us/step - loss: 0.2692 - acc: 0.9000 - val_loss: 0.2860 - val_acc: 0.8900\n",
            "Epoch 6/30\n",
            "2000/2000 [==============================] - 1s 509us/step - loss: 0.2394 - acc: 0.9025 - val_loss: 0.2795 - val_acc: 0.8870\n",
            "Epoch 7/30\n",
            "2000/2000 [==============================] - 1s 504us/step - loss: 0.2208 - acc: 0.9210 - val_loss: 0.2749 - val_acc: 0.8880\n",
            "Epoch 8/30\n",
            "2000/2000 [==============================] - 1s 525us/step - loss: 0.2088 - acc: 0.9245 - val_loss: 0.2723 - val_acc: 0.8860\n",
            "Epoch 9/30\n",
            "2000/2000 [==============================] - 1s 513us/step - loss: 0.1916 - acc: 0.9340 - val_loss: 0.2684 - val_acc: 0.8880\n",
            "Epoch 10/30\n",
            "2000/2000 [==============================] - 1s 513us/step - loss: 0.1845 - acc: 0.9365 - val_loss: 0.2682 - val_acc: 0.8880\n",
            "Epoch 11/30\n",
            "2000/2000 [==============================] - 1s 511us/step - loss: 0.1802 - acc: 0.9370 - val_loss: 0.2664 - val_acc: 0.8860\n",
            "Epoch 12/30\n",
            "2000/2000 [==============================] - 1s 510us/step - loss: 0.1604 - acc: 0.9405 - val_loss: 0.2655 - val_acc: 0.8910\n",
            "Epoch 13/30\n",
            "2000/2000 [==============================] - 1s 510us/step - loss: 0.1495 - acc: 0.9510 - val_loss: 0.2645 - val_acc: 0.8870\n",
            "Epoch 14/30\n",
            "2000/2000 [==============================] - 1s 511us/step - loss: 0.1460 - acc: 0.9550 - val_loss: 0.2627 - val_acc: 0.8890\n",
            "Epoch 15/30\n",
            "2000/2000 [==============================] - 1s 514us/step - loss: 0.1404 - acc: 0.9540 - val_loss: 0.2620 - val_acc: 0.8890\n",
            "Epoch 16/30\n",
            "2000/2000 [==============================] - 1s 513us/step - loss: 0.1311 - acc: 0.9525 - val_loss: 0.2631 - val_acc: 0.8880\n",
            "Epoch 17/30\n",
            "2000/2000 [==============================] - 1s 514us/step - loss: 0.1209 - acc: 0.9620 - val_loss: 0.2625 - val_acc: 0.8900\n",
            "Epoch 18/30\n",
            "2000/2000 [==============================] - 1s 513us/step - loss: 0.1132 - acc: 0.9665 - val_loss: 0.2615 - val_acc: 0.8880\n",
            "Epoch 19/30\n",
            "2000/2000 [==============================] - 1s 507us/step - loss: 0.1174 - acc: 0.9645 - val_loss: 0.2675 - val_acc: 0.8960\n",
            "Epoch 20/30\n",
            "2000/2000 [==============================] - 1s 511us/step - loss: 0.1074 - acc: 0.9695 - val_loss: 0.2649 - val_acc: 0.8870\n",
            "Epoch 21/30\n",
            "2000/2000 [==============================] - 1s 517us/step - loss: 0.1057 - acc: 0.9655 - val_loss: 0.2614 - val_acc: 0.8930\n",
            "Epoch 22/30\n",
            "2000/2000 [==============================] - 1s 509us/step - loss: 0.0941 - acc: 0.9740 - val_loss: 0.2640 - val_acc: 0.8930\n",
            "Epoch 23/30\n",
            "2000/2000 [==============================] - 1s 516us/step - loss: 0.0924 - acc: 0.9735 - val_loss: 0.2641 - val_acc: 0.8950\n",
            "Epoch 24/30\n",
            "2000/2000 [==============================] - 1s 512us/step - loss: 0.0879 - acc: 0.9770 - val_loss: 0.2741 - val_acc: 0.8860\n",
            "Epoch 25/30\n",
            "2000/2000 [==============================] - 1s 507us/step - loss: 0.0846 - acc: 0.9775 - val_loss: 0.2654 - val_acc: 0.8940\n",
            "Epoch 26/30\n",
            "2000/2000 [==============================] - 1s 508us/step - loss: 0.0786 - acc: 0.9770 - val_loss: 0.2678 - val_acc: 0.8880\n",
            "Epoch 27/30\n",
            "2000/2000 [==============================] - 1s 506us/step - loss: 0.0734 - acc: 0.9855 - val_loss: 0.2763 - val_acc: 0.8970\n",
            "Epoch 28/30\n",
            "2000/2000 [==============================] - 1s 514us/step - loss: 0.0733 - acc: 0.9805 - val_loss: 0.2705 - val_acc: 0.8910\n",
            "Epoch 29/30\n",
            "2000/2000 [==============================] - 1s 512us/step - loss: 0.0707 - acc: 0.9815 - val_loss: 0.2711 - val_acc: 0.8900\n",
            "Epoch 30/30\n",
            "2000/2000 [==============================] - 1s 511us/step - loss: 0.0687 - acc: 0.9810 - val_loss: 0.2727 - val_acc: 0.8920\n"
          ],
          "name": "stdout"
        }
      ]
    },
    {
      "metadata": {
        "colab_type": "text",
        "id": "Q5Vulban4ZrD"
      },
      "cell_type": "markdown",
      "source": [
        "## 성능 확인"
      ]
    },
    {
      "metadata": {
        "colab_type": "code",
        "id": "0oj0gTIy4k60",
        "outputId": "39aa808e-9665-4088-eb75-9814c1675d88",
        "colab": {
          "base_uri": "https://localhost:8080/",
          "height": 561
        }
      },
      "cell_type": "code",
      "source": [
        "acc = history.history['acc']\n",
        "val_acc = history.history['val_acc']\n",
        "\n",
        "loss = history.history['loss']\n",
        "val_loss = history.history['val_loss']\n",
        "\n",
        "epochs = range(len(acc))\n",
        "\n",
        "plt.plot(epochs, acc)\n",
        "plt.plot(epochs, val_acc)\n",
        "plt.title('Training and validation accuracy')\n",
        "\n",
        "plt.figure()\n",
        "\n",
        "plt.plot(epochs, loss)\n",
        "plt.plot(epochs, val_loss)\n",
        "plt.title('Training and validation loss')"
      ],
      "execution_count": 14,
      "outputs": [
        {
          "output_type": "execute_result",
          "data": {
            "text/plain": [
              "Text(0.5,1,u'Training and validation loss')"
            ]
          },
          "metadata": {
            "tags": []
          },
          "execution_count": 14
        },
        {
          "output_type": "display_data",
          "data": {
            "image/png": "[encoded data removed]",
            "text/plain": [
              "<matplotlib.figure.Figure at 0x7f1edf5e9cd0>"
            ]
          },
          "metadata": {
            "tags": []
          }
        },
        {
          "output_type": "display_data",
          "data": {
            "image/png": "[encoded data removed]",
            "text/plain": [
              "<matplotlib.figure.Figure at 0x7f1edf5cfa50>"
            ]
          },
          "metadata": {
            "tags": []
          }
        }
      ]
    },
    {
      "metadata": {
        "colab_type": "text",
        "id": "DgmSjUST4qoS"
      },
      "cell_type": "markdown",
      "source": [
        "### 과대적합이 발생한 것을 알 수 있다.\n",
        "- 훈련 데이터가 부족하다\n",
        "- 데이터 확장을 사용하여 개선할 수 있다."
      ]
    },
    {
      "metadata": {
        "id": "zY8xC3RKIMjf",
        "colab_type": "text"
      },
      "cell_type": "markdown",
      "source": [
        "### 2) 모델에 Dense망을 추가하고 학습을 수행\n",
        "- 데이터 확장을 사용할 수 있다.\n",
        "- 비용이 많이 든다\n",
        "- 엔드-투-엔드로 실행한다"
      ]
    },
    {
      "metadata": {
        "id": "dEPZtbjoYyko",
        "colab_type": "code",
        "outputId": "d0b1fdbd-6d6d-477c-e23b-66994361f59d",
        "colab": {
          "base_uri": "https://localhost:8080/",
          "height": 287
        }
      },
      "cell_type": "code",
      "source": [
        "# 모델\n",
        "\n",
        "model = models.Sequential()\n",
        "model.add(conv_base)\n",
        "\n",
        "model.add(layers.Flatten())\n",
        "model.add(layers.Dense(256, activation='relu'))\n",
        "model.add(layers.Dense(1, activation='sigmoid'))\n",
        "\n",
        "model.summary()"
      ],
      "execution_count": 15,
      "outputs": [
        {
          "output_type": "stream",
          "text": [
            "_________________________________________________________________\n",
            "Layer (type)                 Output Shape              Param #   \n",
            "=================================================================\n",
            "vgg16 (Model)                (None, 4, 4, 512)         14714688  \n",
            "_________________________________________________________________\n",
            "flatten_1 (Flatten)          (None, 8192)              0         \n",
            "_________________________________________________________________\n",
            "dense_3 (Dense)              (None, 256)               2097408   \n",
            "_________________________________________________________________\n",
            "dense_4 (Dense)              (None, 1)                 257       \n",
            "=================================================================\n",
            "Total params: 16,812,353\n",
            "Trainable params: 16,812,353\n",
            "Non-trainable params: 0\n",
            "_________________________________________________________________\n"
          ],
          "name": "stdout"
        }
      ]
    },
    {
      "metadata": {
        "id": "cRwp7DKRZNey",
        "colab_type": "text"
      },
      "cell_type": "markdown",
      "source": [
        "## 학습을 동결하지 않으면 모두 재 학습된다!"
      ]
    },
    {
      "metadata": {
        "id": "81xIo14SZaM_",
        "colab_type": "code",
        "outputId": "392d4a78-968c-4a9a-967b-16c933a32d08",
        "colab": {
          "base_uri": "https://localhost:8080/",
          "height": 35
        }
      },
      "cell_type": "code",
      "source": [
        "print(len(model.trainable_weights))"
      ],
      "execution_count": 16,
      "outputs": [
        {
          "output_type": "stream",
          "text": [
            "30\n"
          ],
          "name": "stdout"
        }
      ]
    },
    {
      "metadata": {
        "id": "1I-bJVROjbEi",
        "colab_type": "code",
        "colab": {}
      },
      "cell_type": "code",
      "source": [
        "conv_base.trainable = False"
      ],
      "execution_count": 0,
      "outputs": []
    },
    {
      "metadata": {
        "id": "MN5_TfDJjisU",
        "colab_type": "code",
        "outputId": "54cfa7de-1e02-43d8-ca36-6d4ecbc20d83",
        "colab": {
          "base_uri": "https://localhost:8080/",
          "height": 35
        }
      },
      "cell_type": "code",
      "source": [
        "print(len(model.trainable_weights))"
      ],
      "execution_count": 18,
      "outputs": [
        {
          "output_type": "stream",
          "text": [
            "4\n"
          ],
          "name": "stdout"
        }
      ]
    },
    {
      "metadata": {
        "id": "OUz97nA0jr_y",
        "colab_type": "code",
        "outputId": "e8c8d8c0-afde-4d35-d616-1a0d7127d04a",
        "colab": {
          "base_uri": "https://localhost:8080/",
          "height": 287
        }
      },
      "cell_type": "code",
      "source": [
        "model.summary()"
      ],
      "execution_count": 19,
      "outputs": [
        {
          "output_type": "stream",
          "text": [
            "_________________________________________________________________\n",
            "Layer (type)                 Output Shape              Param #   \n",
            "=================================================================\n",
            "vgg16 (Model)                (None, 4, 4, 512)         14714688  \n",
            "_________________________________________________________________\n",
            "flatten_1 (Flatten)          (None, 8192)              0         \n",
            "_________________________________________________________________\n",
            "dense_3 (Dense)              (None, 256)               2097408   \n",
            "_________________________________________________________________\n",
            "dense_4 (Dense)              (None, 1)                 257       \n",
            "=================================================================\n",
            "Total params: 16,812,353\n",
            "Trainable params: 2,097,665\n",
            "Non-trainable params: 14,714,688\n",
            "_________________________________________________________________\n"
          ],
          "name": "stdout"
        }
      ]
    },
    {
      "metadata": {
        "id": "E68OZRcKkQoU",
        "colab_type": "text"
      },
      "cell_type": "markdown",
      "source": [
        "### 컴파일을 수행해야 변경사항이 적용된다"
      ]
    },
    {
      "metadata": {
        "id": "uG0pDWWMHKkk",
        "colab_type": "code",
        "outputId": "d74f5a12-a26a-4e69-8bb1-0900997e4889",
        "colab": {
          "base_uri": "https://localhost:8080/",
          "height": 53
        }
      },
      "cell_type": "code",
      "source": [
        "train_datagen = ImageDataGenerator(\n",
        "  rescale= 1./255,\n",
        "  rotation_range = 40,\n",
        "  width_shift_range = 0.2,\n",
        "  height_shift_range = 0.2,\n",
        "  shear_range=0.2,\n",
        "  zoom_range=0.2,\n",
        "  horizontal_flip = True,\n",
        "  fill_mode='nearest')\n",
        "\n",
        "validation_datagen = ImageDataGenerator(rescale = 1./255)\n",
        "\n",
        "train_generator = train_datagen.flow_from_directory(directory=train_dir,\n",
        "\t\t\t\t\t\t\t\t\t\t\t   target_size=(img_width,img_height),\n",
        "\t\t\t\t\t\t\t\t\t\t\t   class_mode='binary',\n",
        "\t\t\t\t\t\t\t\t\t\t\t   batch_size=20)\n",
        "\n",
        "validation_generator = validation_datagen.flow_from_directory(directory=validation_dir,\n",
        "\t\t\t\t\t\t\t\t\t\t\t   target_size=(img_width,img_height),\n",
        "\t\t\t\t\t\t\t\t\t\t\t   class_mode='binary',\n",
        "\t\t\t\t\t\t\t\t\t\t\t   batch_size=20)\n",
        "\n",
        "\n"
      ],
      "execution_count": 20,
      "outputs": [
        {
          "output_type": "stream",
          "text": [
            "Found 2000 images belonging to 2 classes.\n",
            "Found 1000 images belonging to 2 classes.\n"
          ],
          "name": "stdout"
        }
      ]
    },
    {
      "metadata": {
        "id": "PNj36PXplaCx",
        "colab_type": "text"
      },
      "cell_type": "markdown",
      "source": [
        "### 과대적합이 줄어든 것을 볼 수 있다."
      ]
    },
    {
      "metadata": {
        "id": "Cpgy1ZUjHKhU",
        "colab_type": "code",
        "outputId": "349b4fd2-3020-4425-fc0d-34741ee08be5",
        "colab": {
          "base_uri": "https://localhost:8080/",
          "height": 1097
        }
      },
      "cell_type": "code",
      "source": [
        "model.compile(loss='binary_crossentropy',\n",
        "              optimizer=optimizers.RMSprop(lr=2e-5),\n",
        "              metrics=['acc'])\n",
        "\n",
        "\n",
        "history = model.fit_generator(\n",
        "    generator=train_generator, \n",
        "    steps_per_epoch=100,\n",
        "    epochs=30,\n",
        "    validation_data=validation_generator,\n",
        "    validation_steps=50)"
      ],
      "execution_count": 21,
      "outputs": [
        {
          "output_type": "stream",
          "text": [
            "Epoch 1/30\n",
            "100/100 [==============================] - 27s 275ms/step - loss: 0.6119 - acc: 0.6585 - val_loss: 0.4590 - val_acc: 0.8230\n",
            "Epoch 2/30\n",
            "100/100 [==============================] - 25s 249ms/step - loss: 0.4815 - acc: 0.7860 - val_loss: 0.3728 - val_acc: 0.8460\n",
            "Epoch 3/30\n",
            "100/100 [==============================] - 25s 246ms/step - loss: 0.4371 - acc: 0.8065 - val_loss: 0.3396 - val_acc: 0.8570\n",
            "Epoch 4/30\n",
            "100/100 [==============================] - 25s 248ms/step - loss: 0.4092 - acc: 0.8240 - val_loss: 0.3160 - val_acc: 0.8530\n",
            "Epoch 5/30\n",
            "100/100 [==============================] - 25s 250ms/step - loss: 0.3873 - acc: 0.8305 - val_loss: 0.3026 - val_acc: 0.8740\n",
            "Epoch 6/30\n",
            "100/100 [==============================] - 25s 250ms/step - loss: 0.3606 - acc: 0.8390 - val_loss: 0.2949 - val_acc: 0.8720\n",
            "Epoch 7/30\n",
            "100/100 [==============================] - 25s 249ms/step - loss: 0.3664 - acc: 0.8315 - val_loss: 0.3055 - val_acc: 0.8760\n",
            "Epoch 8/30\n",
            "100/100 [==============================] - 25s 249ms/step - loss: 0.3492 - acc: 0.8580 - val_loss: 0.3237 - val_acc: 0.8650\n",
            "Epoch 9/30\n",
            "100/100 [==============================] - 25s 248ms/step - loss: 0.3423 - acc: 0.8490 - val_loss: 0.2838 - val_acc: 0.8820\n",
            "Epoch 10/30\n",
            "100/100 [==============================] - 25s 248ms/step - loss: 0.3353 - acc: 0.8465 - val_loss: 0.2868 - val_acc: 0.8860\n",
            "Epoch 11/30\n",
            "100/100 [==============================] - 25s 249ms/step - loss: 0.3311 - acc: 0.8600 - val_loss: 0.2811 - val_acc: 0.8870\n",
            "Epoch 12/30\n",
            "100/100 [==============================] - 25s 249ms/step - loss: 0.3265 - acc: 0.8530 - val_loss: 0.2646 - val_acc: 0.8890\n",
            "Epoch 13/30\n",
            "100/100 [==============================] - 25s 249ms/step - loss: 0.3194 - acc: 0.8640 - val_loss: 0.2802 - val_acc: 0.8830\n",
            "Epoch 14/30\n",
            "100/100 [==============================] - 25s 249ms/step - loss: 0.3094 - acc: 0.8670 - val_loss: 0.2823 - val_acc: 0.8790\n",
            "Epoch 15/30\n",
            "100/100 [==============================] - 25s 249ms/step - loss: 0.2993 - acc: 0.8805 - val_loss: 0.2672 - val_acc: 0.8910\n",
            "Epoch 16/30\n",
            "100/100 [==============================] - 25s 248ms/step - loss: 0.3075 - acc: 0.8590 - val_loss: 0.2724 - val_acc: 0.8860\n",
            "Epoch 17/30\n",
            "100/100 [==============================] - 25s 248ms/step - loss: 0.3147 - acc: 0.8610 - val_loss: 0.2592 - val_acc: 0.8900\n",
            "Epoch 18/30\n",
            "100/100 [==============================] - 25s 247ms/step - loss: 0.2953 - acc: 0.8765 - val_loss: 0.2574 - val_acc: 0.8950\n",
            "Epoch 19/30\n",
            "100/100 [==============================] - 25s 250ms/step - loss: 0.3151 - acc: 0.8530 - val_loss: 0.2571 - val_acc: 0.8900\n",
            "Epoch 20/30\n",
            "100/100 [==============================] - 25s 249ms/step - loss: 0.3072 - acc: 0.8640 - val_loss: 0.2720 - val_acc: 0.8840\n",
            "Epoch 21/30\n",
            "100/100 [==============================] - 25s 248ms/step - loss: 0.3077 - acc: 0.8700 - val_loss: 0.2655 - val_acc: 0.8930\n",
            "Epoch 22/30\n",
            "100/100 [==============================] - 25s 247ms/step - loss: 0.2935 - acc: 0.8825 - val_loss: 0.2531 - val_acc: 0.8980\n",
            "Epoch 23/30\n",
            "100/100 [==============================] - 25s 247ms/step - loss: 0.2828 - acc: 0.8695 - val_loss: 0.2705 - val_acc: 0.8890\n",
            "Epoch 24/30\n",
            "100/100 [==============================] - 25s 248ms/step - loss: 0.2867 - acc: 0.8795 - val_loss: 0.2821 - val_acc: 0.8930\n",
            "Epoch 25/30\n",
            "100/100 [==============================] - 25s 248ms/step - loss: 0.2875 - acc: 0.8825 - val_loss: 0.2560 - val_acc: 0.8940\n",
            "Epoch 26/30\n",
            "100/100 [==============================] - 25s 249ms/step - loss: 0.2785 - acc: 0.8805 - val_loss: 0.2579 - val_acc: 0.8890\n",
            "Epoch 27/30\n",
            "100/100 [==============================] - 25s 248ms/step - loss: 0.2933 - acc: 0.8775 - val_loss: 0.2523 - val_acc: 0.8930\n",
            "Epoch 28/30\n",
            "100/100 [==============================] - 25s 247ms/step - loss: 0.2955 - acc: 0.8735 - val_loss: 0.2500 - val_acc: 0.8920\n",
            "Epoch 29/30\n",
            "100/100 [==============================] - 25s 245ms/step - loss: 0.2915 - acc: 0.8695 - val_loss: 0.2487 - val_acc: 0.8940\n",
            "Epoch 30/30\n",
            "100/100 [==============================] - 25s 249ms/step - loss: 0.2714 - acc: 0.8900 - val_loss: 0.2513 - val_acc: 0.8930\n"
          ],
          "name": "stdout"
        }
      ]
    },
    {
      "metadata": {
        "id": "5d1NMELUHKd-",
        "colab_type": "code",
        "outputId": "5b5b1f6d-11da-42c2-f592-f6f9550aabe0",
        "colab": {
          "base_uri": "https://localhost:8080/",
          "height": 561
        }
      },
      "cell_type": "code",
      "source": [
        "acc = history.history['acc']\n",
        "val_acc = history.history['val_acc']\n",
        "\n",
        "loss = history.history['loss']\n",
        "val_loss = history.history['val_loss']\n",
        "\n",
        "epochs = range(len(acc))\n",
        "\n",
        "plt.plot(epochs, acc)\n",
        "plt.plot(epochs, val_acc)\n",
        "plt.title('Training and validation accuracy')\n",
        "\n",
        "plt.figure()\n",
        "\n",
        "plt.plot(epochs, loss)\n",
        "plt.plot(epochs, val_loss)\n",
        "plt.title('Training and validation loss')"
      ],
      "execution_count": 22,
      "outputs": [
        {
          "output_type": "execute_result",
          "data": {
            "text/plain": [
              "Text(0.5,1,u'Training and validation loss')"
            ]
          },
          "metadata": {
            "tags": []
          },
          "execution_count": 22
        },
        {
          "output_type": "display_data",
          "data": {
            "image/png": "[encoded data removed]",
            "text/plain": [
              "<matplotlib.figure.Figure at 0x7f1ede993a90>"
            ]
          },
          "metadata": {
            "tags": []
          }
        },
        {
          "output_type": "display_data",
          "data": {
            "image/png": "[encoded data removed]",
            "text/plain": [
              "<matplotlib.figure.Figure at 0x7f1ede9bce90>"
            ]
          },
          "metadata": {
            "tags": []
          }
        }
      ]
    },
    {
      "metadata": {
        "id": "0qC0I1Xglvbp",
        "colab_type": "text"
      },
      "cell_type": "markdown",
      "source": [
        "## 미세조정 방법\n",
        "- 상위 계층 몇개를 재학습시킨다\n",
        "- 앞에서 소개한 절차, 즉, 전결합망(top)부분을 먼저 학습시킨 후에 상위계층의 미세조정을 해야 한다 (한번에 학습하면 안되고 두 단계로 나누어야 함)\n",
        "\n",
        "         "
      ]
    },
    {
      "metadata": {
        "id": "t5XAI5qT2M8W",
        "colab_type": "code",
        "outputId": "95f11239-adf9-453e-9832-50fab026ff2c",
        "colab": {
          "base_uri": "https://localhost:8080/",
          "height": 827
        }
      },
      "cell_type": "code",
      "source": [
        "conv_base.summary()"
      ],
      "execution_count": 23,
      "outputs": [
        {
          "output_type": "stream",
          "text": [
            "_________________________________________________________________\n",
            "Layer (type)                 Output Shape              Param #   \n",
            "=================================================================\n",
            "input_1 (InputLayer)         (None, 150, 150, 3)       0         \n",
            "_________________________________________________________________\n",
            "block1_conv1 (Conv2D)        (None, 150, 150, 64)      1792      \n",
            "_________________________________________________________________\n",
            "block1_conv2 (Conv2D)        (None, 150, 150, 64)      36928     \n",
            "_________________________________________________________________\n",
            "block1_pool (MaxPooling2D)   (None, 75, 75, 64)        0         \n",
            "_________________________________________________________________\n",
            "block2_conv1 (Conv2D)        (None, 75, 75, 128)       73856     \n",
            "_________________________________________________________________\n",
            "block2_conv2 (Conv2D)        (None, 75, 75, 128)       147584    \n",
            "_________________________________________________________________\n",
            "block2_pool (MaxPooling2D)   (None, 37, 37, 128)       0         \n",
            "_________________________________________________________________\n",
            "block3_conv1 (Conv2D)        (None, 37, 37, 256)       295168    \n",
            "_________________________________________________________________\n",
            "block3_conv2 (Conv2D)        (None, 37, 37, 256)       590080    \n",
            "_________________________________________________________________\n",
            "block3_conv3 (Conv2D)        (None, 37, 37, 256)       590080    \n",
            "_________________________________________________________________\n",
            "block3_pool (MaxPooling2D)   (None, 18, 18, 256)       0         \n",
            "_________________________________________________________________\n",
            "block4_conv1 (Conv2D)        (None, 18, 18, 512)       1180160   \n",
            "_________________________________________________________________\n",
            "block4_conv2 (Conv2D)        (None, 18, 18, 512)       2359808   \n",
            "_________________________________________________________________\n",
            "block4_conv3 (Conv2D)        (None, 18, 18, 512)       2359808   \n",
            "_________________________________________________________________\n",
            "block4_pool (MaxPooling2D)   (None, 9, 9, 512)         0         \n",
            "_________________________________________________________________\n",
            "block5_conv1 (Conv2D)        (None, 9, 9, 512)         2359808   \n",
            "_________________________________________________________________\n",
            "block5_conv2 (Conv2D)        (None, 9, 9, 512)         2359808   \n",
            "_________________________________________________________________\n",
            "block5_conv3 (Conv2D)        (None, 9, 9, 512)         2359808   \n",
            "_________________________________________________________________\n",
            "block5_pool (MaxPooling2D)   (None, 4, 4, 512)         0         \n",
            "=================================================================\n",
            "Total params: 14,714,688\n",
            "Trainable params: 0\n",
            "Non-trainable params: 14,714,688\n",
            "_________________________________________________________________\n"
          ],
          "name": "stdout"
        }
      ]
    },
    {
      "metadata": {
        "id": "RAUd8YyW2blO",
        "colab_type": "text"
      },
      "cell_type": "markdown",
      "source": [
        "### 위에서 block 5 부분만 미세조정 하겠다"
      ]
    },
    {
      "metadata": {
        "id": "pEVEbvcW2TBl",
        "colab_type": "code",
        "colab": {}
      },
      "cell_type": "code",
      "source": [
        "conv_base.trainable = True\n",
        "\n",
        "set_trainable = False\n",
        "for layer in conv_base.layers:\n",
        "  if layer.name == 'block5_conv1':\n",
        "    set_trainable = True\n",
        "  if set_trainable:\n",
        "    layer.trainable = True\n",
        "  else:\n",
        "    layer.trainable = False"
      ],
      "execution_count": 0,
      "outputs": []
    },
    {
      "metadata": {
        "id": "7uCc31nj3lJq",
        "colab_type": "text"
      },
      "cell_type": "markdown",
      "source": [
        "### 학습률을 작게 조정한다 (천천히 학습하도록)"
      ]
    },
    {
      "metadata": {
        "id": "oEZvEBLt3fZl",
        "colab_type": "code",
        "outputId": "a7cf3b52-a61b-4b85-c065-54d0c00ff1fd",
        "colab": {
          "base_uri": "https://localhost:8080/",
          "height": 1097
        }
      },
      "cell_type": "code",
      "source": [
        "model.compile(loss='binary_crossentropy',\n",
        "              optimizer=optimizers.RMSprop(lr=1e-5),\n",
        "              metrics=['acc'])\n",
        "\n",
        "\n",
        "history = model.fit_generator(\n",
        "    generator=train_generator, \n",
        "    steps_per_epoch=100,\n",
        "    epochs=30,\n",
        "    validation_data=validation_generator,\n",
        "    validation_steps=50)"
      ],
      "execution_count": 25,
      "outputs": [
        {
          "output_type": "stream",
          "text": [
            "Epoch 1/30\n",
            "100/100 [==============================] - 28s 279ms/step - loss: 0.2839 - acc: 0.8720 - val_loss: 0.2560 - val_acc: 0.9010\n",
            "Epoch 2/30\n",
            "100/100 [==============================] - 25s 255ms/step - loss: 0.2510 - acc: 0.8955 - val_loss: 0.1972 - val_acc: 0.9190\n",
            "Epoch 3/30\n",
            "100/100 [==============================] - 25s 254ms/step - loss: 0.2307 - acc: 0.9015 - val_loss: 0.2367 - val_acc: 0.9100\n",
            "Epoch 4/30\n",
            "100/100 [==============================] - 26s 256ms/step - loss: 0.2299 - acc: 0.8980 - val_loss: 0.2155 - val_acc: 0.9110\n",
            "Epoch 5/30\n",
            "100/100 [==============================] - 26s 256ms/step - loss: 0.2074 - acc: 0.9110 - val_loss: 0.2065 - val_acc: 0.9390\n",
            "Epoch 6/30\n",
            "100/100 [==============================] - 26s 255ms/step - loss: 0.2074 - acc: 0.9100 - val_loss: 0.2304 - val_acc: 0.9190\n",
            "Epoch 7/30\n",
            "100/100 [==============================] - 25s 255ms/step - loss: 0.1736 - acc: 0.9300 - val_loss: 0.1897 - val_acc: 0.9370\n",
            "Epoch 8/30\n",
            "100/100 [==============================] - 26s 255ms/step - loss: 0.1741 - acc: 0.9255 - val_loss: 0.2272 - val_acc: 0.9290\n",
            "Epoch 9/30\n",
            "100/100 [==============================] - 26s 257ms/step - loss: 0.1580 - acc: 0.9340 - val_loss: 0.3504 - val_acc: 0.8970\n",
            "Epoch 10/30\n",
            "100/100 [==============================] - 26s 255ms/step - loss: 0.1456 - acc: 0.9425 - val_loss: 0.1628 - val_acc: 0.9460\n",
            "Epoch 11/30\n",
            "100/100 [==============================] - 25s 254ms/step - loss: 0.1473 - acc: 0.9310 - val_loss: 0.2076 - val_acc: 0.9350\n",
            "Epoch 12/30\n",
            "100/100 [==============================] - 26s 258ms/step - loss: 0.1522 - acc: 0.9365 - val_loss: 0.1871 - val_acc: 0.9410\n",
            "Epoch 13/30\n",
            "100/100 [==============================] - 25s 255ms/step - loss: 0.1296 - acc: 0.9475 - val_loss: 0.2478 - val_acc: 0.9260\n",
            "Epoch 14/30\n",
            "100/100 [==============================] - 25s 254ms/step - loss: 0.1261 - acc: 0.9520 - val_loss: 0.3107 - val_acc: 0.9170\n",
            "Epoch 15/30\n",
            "100/100 [==============================] - 25s 253ms/step - loss: 0.1114 - acc: 0.9580 - val_loss: 0.1975 - val_acc: 0.9420\n",
            "Epoch 16/30\n",
            "100/100 [==============================] - 25s 255ms/step - loss: 0.1184 - acc: 0.9525 - val_loss: 0.1955 - val_acc: 0.9380\n",
            "Epoch 17/30\n",
            "100/100 [==============================] - 26s 260ms/step - loss: 0.1099 - acc: 0.9595 - val_loss: 0.2001 - val_acc: 0.9410\n",
            "Epoch 18/30\n",
            "100/100 [==============================] - 25s 255ms/step - loss: 0.0997 - acc: 0.9595 - val_loss: 0.1632 - val_acc: 0.9490\n",
            "Epoch 19/30\n",
            "100/100 [==============================] - 25s 254ms/step - loss: 0.1036 - acc: 0.9570 - val_loss: 0.2358 - val_acc: 0.9320\n",
            "Epoch 20/30\n",
            "100/100 [==============================] - 25s 255ms/step - loss: 0.1042 - acc: 0.9640 - val_loss: 0.2622 - val_acc: 0.9200\n",
            "Epoch 21/30\n",
            "100/100 [==============================] - 26s 257ms/step - loss: 0.0873 - acc: 0.9615 - val_loss: 0.2016 - val_acc: 0.9490\n",
            "Epoch 22/30\n",
            "100/100 [==============================] - 25s 254ms/step - loss: 0.0883 - acc: 0.9655 - val_loss: 0.2196 - val_acc: 0.9380\n",
            "Epoch 23/30\n",
            "100/100 [==============================] - 25s 254ms/step - loss: 0.0865 - acc: 0.9665 - val_loss: 0.2279 - val_acc: 0.9290\n",
            "Epoch 24/30\n",
            "100/100 [==============================] - 26s 257ms/step - loss: 0.0894 - acc: 0.9640 - val_loss: 0.2931 - val_acc: 0.9290\n",
            "Epoch 25/30\n",
            "100/100 [==============================] - 25s 254ms/step - loss: 0.0729 - acc: 0.9780 - val_loss: 0.1559 - val_acc: 0.9510\n",
            "Epoch 26/30\n",
            "100/100 [==============================] - 25s 254ms/step - loss: 0.0755 - acc: 0.9695 - val_loss: 0.2175 - val_acc: 0.9430\n",
            "Epoch 27/30\n",
            "100/100 [==============================] - 25s 254ms/step - loss: 0.0802 - acc: 0.9685 - val_loss: 0.1598 - val_acc: 0.9550\n",
            "Epoch 28/30\n",
            "100/100 [==============================] - 25s 254ms/step - loss: 0.0588 - acc: 0.9810 - val_loss: 0.2790 - val_acc: 0.9340\n",
            "Epoch 29/30\n",
            "100/100 [==============================] - 26s 256ms/step - loss: 0.0788 - acc: 0.9695 - val_loss: 0.1981 - val_acc: 0.9450\n",
            "Epoch 30/30\n",
            "100/100 [==============================] - 25s 255ms/step - loss: 0.0629 - acc: 0.9805 - val_loss: 0.1769 - val_acc: 0.9540\n"
          ],
          "name": "stdout"
        }
      ]
    },
    {
      "metadata": {
        "id": "QCbU7FQU47OP",
        "colab_type": "text"
      },
      "cell_type": "markdown",
      "source": [
        "## 성능이 92%로 1% 정도 향상되었다.\n",
        "- 주의 할 것은 손실함수는 향상되지 않는 것으로 나타나도, 성능이 향상될 수 있다는 것이다. (분류 성능은 어떤 임계값만 넘으면 활률적으로 개선될 수 있다)\n",
        "\n",
        "## 요약\n",
        "- 과대적합을 줄이기 위해서 데이터 확장을 사용\n",
        "- 전이학습 중 특성 추출방식 소개\n",
        "- 전이학습 중 미세조정 방식 소개"
      ]
    },
    {
      "metadata": {
        "id": "8zFN7erS5SEV",
        "colab_type": "code",
        "colab": {}
      },
      "cell_type": "code",
      "source": [
        ""
      ],
      "execution_count": 0,
      "outputs": []
    }
  ]
}